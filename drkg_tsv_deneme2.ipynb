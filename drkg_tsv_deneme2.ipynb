{
 "cells": [
  {
   "cell_type": "code",
   "execution_count": 2,
   "metadata": {},
   "outputs": [
    {
     "ename": "ValueError",
     "evalue": "too many values to unpack (expected 5)",
     "output_type": "error",
     "traceback": [
      "\u001b[0;31m---------------------------------------------------------------------------\u001b[0m",
      "\u001b[0;31mValueError\u001b[0m                                Traceback (most recent call last)",
      "\u001b[1;32m/home/utku/Desktop/repo_drkg/Dr_tiger/drkg_tsv_deneme2.ipynb Cell 1'\u001b[0m in \u001b[0;36m<cell line: 22>\u001b[0;34m()\u001b[0m\n\u001b[1;32m     <a href='vscode-notebook-cell:/home/utku/Desktop/repo_drkg/Dr_tiger/drkg_tsv_deneme2.ipynb#ch0000000?line=17'>18</a>\u001b[0m allowed_labels \u001b[39m=\u001b[39m [\u001b[39m'\u001b[39m\u001b[39mHetionet::CtD::Compound:Disease\u001b[39m\u001b[39m'\u001b[39m,\u001b[39m'\u001b[39m\u001b[39mGNBR::T::Compound:Disease\u001b[39m\u001b[39m'\u001b[39m]\n\u001b[1;32m     <a href='vscode-notebook-cell:/home/utku/Desktop/repo_drkg/Dr_tiger/drkg_tsv_deneme2.ipynb#ch0000000?line=19'>20</a>\u001b[0m diseases_list \u001b[39m=\u001b[39m file_operations\u001b[39m.\u001b[39mopen_file_return_list(\u001b[39m'\u001b[39m\u001b[39mdiseases_names.csv\u001b[39m\u001b[39m'\u001b[39m)\n\u001b[0;32m---> <a href='vscode-notebook-cell:/home/utku/Desktop/repo_drkg/Dr_tiger/drkg_tsv_deneme2.ipynb#ch0000000?line=21'>22</a>\u001b[0m entity_name_to_id, entity_id_to_name, relation_name_to_id, allowed_relation_ids,allowed_drug_ids \u001b[39m=\u001b[39m file_operations\u001b[39m.\u001b[39mentity_relations(allowed_labels,file_operations\u001b[39m.\u001b[39mCOVID) \n\u001b[1;32m     <a href='vscode-notebook-cell:/home/utku/Desktop/repo_drkg/Dr_tiger/drkg_tsv_deneme2.ipynb#ch0000000?line=23'>24</a>\u001b[0m allowed_drug \u001b[39m=\u001b[39m file_operations\u001b[39m.\u001b[39mallowed_drug\n",
      "\u001b[0;31mValueError\u001b[0m: too many values to unpack (expected 5)"
     ]
    }
   ],
   "source": [
    "import pyTigerGraph as tg\n",
    "import pandas as pd\n",
    "import file_operations\n",
    "\n",
    "secret=\"ji08rpup1652lum47ojvpuei1ievolum\"\n",
    "host=\"https://offlabel.i.tgcloud.io\"  \n",
    "graphname=\"DRKG\"\n",
    "username=\"tigergraph\" \n",
    "password=\"utku123\"\n",
    "\n",
    "\n",
    "graph = tg.TigerGraphConnection(host=host, graphname=graphname)\n",
    "authToken = graph.getToken(secret=secret)\n",
    "authToken = authToken[0]\n",
    "\n",
    "conn = tg.TigerGraphConnection(host=host,graphname=graphname,username=username,password=password,apiToken=authToken)\n",
    "\n",
    "allowed_labels = ['Hetionet::CtD::Compound:Disease','GNBR::T::Compound:Disease']\n",
    "\n",
    "diseases_list = file_operations.open_file_return_list('diseases_names.csv')\n",
    "\n",
    "entity_name_to_id, entity_id_to_name, relation_name_to_id, allowed_relation_ids,allowed_drug_ids,disease_ids = file_operations.entity_relations(allowed_labels,file_operations.COVID) \n",
    "\n",
    "allowed_drug = file_operations.allowed_drug"
   ]
  },
  {
   "cell_type": "code",
   "execution_count": 5,
   "metadata": {},
   "outputs": [],
   "source": [
    "vertex_types = conn.getVertexTypes()\n",
    "vertex_types_with_ids={}"
   ]
  },
  {
   "cell_type": "code",
   "execution_count": 39,
   "metadata": {},
   "outputs": [],
   "source": [
    "for vertex in vertex_types:\n",
    "    v_id = [item.get('v_id') for item in conn.getVertices(vertexType=vertex) ]\n",
    "    vertex_types_with_ids[vertex] = v_id\n"
   ]
  },
  {
   "cell_type": "code",
   "execution_count": 40,
   "metadata": {},
   "outputs": [],
   "source": [
    "list_dict_df=[]\n",
    "i=0\n",
    "for v in vertex_types_with_ids:\n",
    "        for id in vertex_types_with_ids[v]:\n",
    "            if i<5:\n",
    "                for item in conn.getEdges(v,id):\n",
    "                    list_dict_df.append(item)\n",
    "            i+=1"
   ]
  },
  {
   "cell_type": "code",
   "execution_count": 41,
   "metadata": {},
   "outputs": [],
   "source": [
    "df = pd.DataFrame(list_dict_df)"
   ]
  },
  {
   "cell_type": "code",
   "execution_count": 42,
   "metadata": {},
   "outputs": [
    {
     "data": {
      "text/html": [
       "<div>\n",
       "<style scoped>\n",
       "    .dataframe tbody tr th:only-of-type {\n",
       "        vertical-align: middle;\n",
       "    }\n",
       "\n",
       "    .dataframe tbody tr th {\n",
       "        vertical-align: top;\n",
       "    }\n",
       "\n",
       "    .dataframe thead th {\n",
       "        text-align: right;\n",
       "    }\n",
       "</style>\n",
       "<table border=\"1\" class=\"dataframe\">\n",
       "  <thead>\n",
       "    <tr style=\"text-align: right;\">\n",
       "      <th></th>\n",
       "      <th>e_type</th>\n",
       "      <th>directed</th>\n",
       "      <th>from_id</th>\n",
       "      <th>from_type</th>\n",
       "      <th>to_id</th>\n",
       "      <th>to_type</th>\n",
       "      <th>attributes</th>\n",
       "    </tr>\n",
       "  </thead>\n",
       "  <tbody>\n",
       "    <tr>\n",
       "      <th>0</th>\n",
       "      <td>bioarxHumGenHumGenGeneGene</td>\n",
       "      <td>True</td>\n",
       "      <td>3359</td>\n",
       "      <td>Gene</td>\n",
       "      <td>1956</td>\n",
       "      <td>Gene</td>\n",
       "      <td>{}</td>\n",
       "    </tr>\n",
       "    <tr>\n",
       "      <th>1</th>\n",
       "      <td>bioarxHumGenHumGenGeneGene</td>\n",
       "      <td>True</td>\n",
       "      <td>3359</td>\n",
       "      <td>Gene</td>\n",
       "      <td>200895</td>\n",
       "      <td>Gene</td>\n",
       "      <td>{}</td>\n",
       "    </tr>\n",
       "    <tr>\n",
       "      <th>2</th>\n",
       "      <td>bioarxHumGenHumGenGeneGene</td>\n",
       "      <td>True</td>\n",
       "      <td>3359</td>\n",
       "      <td>Gene</td>\n",
       "      <td>21</td>\n",
       "      <td>Gene</td>\n",
       "      <td>{}</td>\n",
       "    </tr>\n",
       "    <tr>\n",
       "      <th>3</th>\n",
       "      <td>bioarxHumGenHumGenGeneGene</td>\n",
       "      <td>True</td>\n",
       "      <td>3359</td>\n",
       "      <td>Gene</td>\n",
       "      <td>2697</td>\n",
       "      <td>Gene</td>\n",
       "      <td>{}</td>\n",
       "    </tr>\n",
       "    <tr>\n",
       "      <th>4</th>\n",
       "      <td>bioarxHumGenHumGenGeneGene</td>\n",
       "      <td>True</td>\n",
       "      <td>3359</td>\n",
       "      <td>Gene</td>\n",
       "      <td>10682</td>\n",
       "      <td>Gene</td>\n",
       "      <td>{}</td>\n",
       "    </tr>\n",
       "    <tr>\n",
       "      <th>...</th>\n",
       "      <td>...</td>\n",
       "      <td>...</td>\n",
       "      <td>...</td>\n",
       "      <td>...</td>\n",
       "      <td>...</td>\n",
       "      <td>...</td>\n",
       "      <td>...</td>\n",
       "    </tr>\n",
       "    <tr>\n",
       "      <th>809</th>\n",
       "      <td>STRINGBINDINGGeneGene</td>\n",
       "      <td>True</td>\n",
       "      <td>4714</td>\n",
       "      <td>Gene</td>\n",
       "      <td>374291</td>\n",
       "      <td>Gene</td>\n",
       "      <td>{}</td>\n",
       "    </tr>\n",
       "    <tr>\n",
       "      <th>810</th>\n",
       "      <td>STRINGBINDINGGeneGene</td>\n",
       "      <td>True</td>\n",
       "      <td>4714</td>\n",
       "      <td>Gene</td>\n",
       "      <td>55863</td>\n",
       "      <td>Gene</td>\n",
       "      <td>{}</td>\n",
       "    </tr>\n",
       "    <tr>\n",
       "      <th>811</th>\n",
       "      <td>DGIDBINHIBITORGeneCompound</td>\n",
       "      <td>True</td>\n",
       "      <td>4714</td>\n",
       "      <td>Gene</td>\n",
       "      <td>CHEMBL1703</td>\n",
       "      <td>Compound</td>\n",
       "      <td>{}</td>\n",
       "    </tr>\n",
       "    <tr>\n",
       "      <th>812</th>\n",
       "      <td>DGIDBINHIBITORGeneCompound</td>\n",
       "      <td>True</td>\n",
       "      <td>4714</td>\n",
       "      <td>Gene</td>\n",
       "      <td>CHEMBL3545320</td>\n",
       "      <td>Compound</td>\n",
       "      <td>{}</td>\n",
       "    </tr>\n",
       "    <tr>\n",
       "      <th>813</th>\n",
       "      <td>DGIDBINHIBITORGeneCompound</td>\n",
       "      <td>True</td>\n",
       "      <td>4714</td>\n",
       "      <td>Gene</td>\n",
       "      <td>CHEMBL3545135</td>\n",
       "      <td>Compound</td>\n",
       "      <td>{}</td>\n",
       "    </tr>\n",
       "  </tbody>\n",
       "</table>\n",
       "<p>814 rows × 7 columns</p>\n",
       "</div>"
      ],
      "text/plain": [
       "                         e_type  directed from_id from_type          to_id  \\\n",
       "0    bioarxHumGenHumGenGeneGene      True    3359      Gene           1956   \n",
       "1    bioarxHumGenHumGenGeneGene      True    3359      Gene         200895   \n",
       "2    bioarxHumGenHumGenGeneGene      True    3359      Gene             21   \n",
       "3    bioarxHumGenHumGenGeneGene      True    3359      Gene           2697   \n",
       "4    bioarxHumGenHumGenGeneGene      True    3359      Gene          10682   \n",
       "..                          ...       ...     ...       ...            ...   \n",
       "809       STRINGBINDINGGeneGene      True    4714      Gene         374291   \n",
       "810       STRINGBINDINGGeneGene      True    4714      Gene          55863   \n",
       "811  DGIDBINHIBITORGeneCompound      True    4714      Gene     CHEMBL1703   \n",
       "812  DGIDBINHIBITORGeneCompound      True    4714      Gene  CHEMBL3545320   \n",
       "813  DGIDBINHIBITORGeneCompound      True    4714      Gene  CHEMBL3545135   \n",
       "\n",
       "      to_type attributes  \n",
       "0        Gene         {}  \n",
       "1        Gene         {}  \n",
       "2        Gene         {}  \n",
       "3        Gene         {}  \n",
       "4        Gene         {}  \n",
       "..        ...        ...  \n",
       "809      Gene         {}  \n",
       "810      Gene         {}  \n",
       "811  Compound         {}  \n",
       "812  Compound         {}  \n",
       "813  Compound         {}  \n",
       "\n",
       "[814 rows x 7 columns]"
      ]
     },
     "execution_count": 42,
     "metadata": {},
     "output_type": "execute_result"
    }
   ],
   "source": [
    "df"
   ]
  },
  {
   "cell_type": "code",
   "execution_count": 43,
   "metadata": {},
   "outputs": [],
   "source": [
    "import pandas as pd\n",
    "import numpy as np\n",
    "import torch\n",
    "import csv\n",
    "import torch.nn.functional as fn"
   ]
  },
  {
   "cell_type": "code",
   "execution_count": 32,
   "metadata": {},
   "outputs": [],
   "source": [
    "entity_emb = np.load('drkg/embed/DRKG_TransE_l2_entity.npy')\n",
    "rel_emb = np.load('drkg/embed/DRKG_TransE_l2_relation.npy')\n",
    "\n",
    "allowed_drug_ids = torch.tensor(allowed_drug_ids).long()\n",
    "disease_ids = torch.tensor(disease_ids).long()\n",
    "allowed_relation_ids = torch.tensor(allowed_relation_ids)\n",
    "\n",
    "allowed_drug_tensors = torch.tensor(entity_emb[allowed_drug_ids])\n",
    "allowed_relation_tensors = [torch.tensor(rel_emb[rel]) for rel in allowed_relation_ids]"
   ]
  },
  {
   "cell_type": "code",
   "execution_count": 33,
   "metadata": {},
   "outputs": [],
   "source": [
    "threshold= 20\n",
    "def score(h, r, t):\n",
    "    return fn.logsigmoid(threshold - torch.norm(h + r - t, p=2, dim=-1))\n",
    "\n",
    "allowed_drug_scores = []\n",
    "drug_ids = []\n",
    "for relation_tensor in range(len(allowed_relation_tensors)):\n",
    "    rel_vector = allowed_relation_tensors[relation_tensor]\n",
    "    for disease_id in disease_ids:\n",
    "        disease_vector = entity_emb[disease_id]\n",
    "        drug_score = score(allowed_drug_tensors, rel_vector, disease_vector)\n",
    "        allowed_drug_scores.append(drug_score)\n",
    "        drug_ids.append(allowed_drug_ids)\n",
    "scores = torch.cat(allowed_drug_scores)\n",
    "drug_ids = torch.cat(drug_ids)"
   ]
  },
  {
   "cell_type": "code",
   "execution_count": 34,
   "metadata": {},
   "outputs": [],
   "source": [
    "idx = torch.flip(torch.argsort(scores), dims=[0])\n",
    "scores = scores[idx].numpy()\n",
    "drug_ids = drug_ids[idx].numpy()\n",
    "_, unique_indices = np.unique(drug_ids, return_index=True)\n",
    "# top 10\n",
    "topk_indices = np.sort(unique_indices)[:10]\n",
    "proposed_dids = drug_ids[topk_indices]\n",
    "proposed_scores = scores[topk_indices]"
   ]
  },
  {
   "cell_type": "code",
   "execution_count": 35,
   "metadata": {},
   "outputs": [
    {
     "name": "stdout",
     "output_type": "stream",
     "text": [
      "Compound::DB00811\t-8.011550380615517e-05\n",
      "Compound::DB00993\t-0.0004376895376481116\n",
      "Compound::DB00635\t-0.00048744698869995773\n",
      "Compound::DB01082\t-0.0005631227395497262\n",
      "Compound::DB01234\t-0.0005747968680225313\n",
      "Compound::DB00982\t-0.0005910185282118618\n",
      "Compound::DB00563\t-0.0005936846719123423\n",
      "Compound::DB00290\t-0.0006365859881043434\n",
      "Compound::DB01394\t-0.0006528208032250404\n",
      "Compound::DB01222\t-0.0006566540687344968\n"
     ]
    }
   ],
   "source": [
    "for i in range(10):\n",
    "    drug = int(proposed_dids[i])\n",
    "    score = proposed_scores[i]\n",
    "\n",
    "    print(\"{}\\t{}\".format(entity_id_to_name[drug], score))"
   ]
  },
  {
   "cell_type": "code",
   "execution_count": null,
   "metadata": {},
   "outputs": [],
   "source": []
  }
 ],
 "metadata": {
  "interpreter": {
   "hash": "916dbcbb3f70747c44a77c7bcd40155683ae19c65e1c03b4aa3499c5328201f1"
  },
  "kernelspec": {
   "display_name": "Python 3.8.10 64-bit",
   "language": "python",
   "name": "python3"
  },
  "language_info": {
   "codemirror_mode": {
    "name": "ipython",
    "version": 3
   },
   "file_extension": ".py",
   "mimetype": "text/x-python",
   "name": "python",
   "nbconvert_exporter": "python",
   "pygments_lexer": "ipython3",
   "version": "3.8.10"
  },
  "orig_nbformat": 4
 },
 "nbformat": 4,
 "nbformat_minor": 2
}
